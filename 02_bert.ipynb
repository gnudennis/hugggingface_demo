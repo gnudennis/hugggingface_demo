{
  "nbformat": 4,
  "nbformat_minor": 0,
  "metadata": {
    "colab": {
      "provenance": [],
      "toc_visible": true,
      "gpuType": "T4",
      "mount_file_id": "1camfCdh9HvFhPBpxT003XWZAo-yRROv6",
      "authorship_tag": "ABX9TyOUgDYrmQmC5dM4S5OM8gbi",
      "include_colab_link": true
    },
    "kernelspec": {
      "name": "python3",
      "display_name": "Python 3"
    },
    "language_info": {
      "name": "python"
    },
    "accelerator": "GPU",
    "widgets": {
      "application/vnd.jupyter.widget-state+json": {
        "3512af0c1bd04f278f21cccd72107ce3": {
          "model_module": "@jupyter-widgets/controls",
          "model_name": "HBoxModel",
          "model_module_version": "1.5.0",
          "state": {
            "_dom_classes": [],
            "_model_module": "@jupyter-widgets/controls",
            "_model_module_version": "1.5.0",
            "_model_name": "HBoxModel",
            "_view_count": null,
            "_view_module": "@jupyter-widgets/controls",
            "_view_module_version": "1.5.0",
            "_view_name": "HBoxView",
            "box_style": "",
            "children": [
              "IPY_MODEL_073ea0189f154ba69db571df766f48ea",
              "IPY_MODEL_ed70a04de4a64fb8bfbb0927cf9eab00",
              "IPY_MODEL_cffefc9d6cf14afdae29538ce9c4306a"
            ],
            "layout": "IPY_MODEL_f9d4ef6750354c4087740c20e4ecca7c"
          }
        },
        "073ea0189f154ba69db571df766f48ea": {
          "model_module": "@jupyter-widgets/controls",
          "model_name": "HTMLModel",
          "model_module_version": "1.5.0",
          "state": {
            "_dom_classes": [],
            "_model_module": "@jupyter-widgets/controls",
            "_model_module_version": "1.5.0",
            "_model_name": "HTMLModel",
            "_view_count": null,
            "_view_module": "@jupyter-widgets/controls",
            "_view_module_version": "1.5.0",
            "_view_name": "HTMLView",
            "description": "",
            "description_tooltip": null,
            "layout": "IPY_MODEL_f72847b38e734b9ba47dc341e8808fbd",
            "placeholder": "​",
            "style": "IPY_MODEL_721145f8695d4b75abfa9336a213d219",
            "value": "Downloading (…)lve/main/config.json: 100%"
          }
        },
        "ed70a04de4a64fb8bfbb0927cf9eab00": {
          "model_module": "@jupyter-widgets/controls",
          "model_name": "FloatProgressModel",
          "model_module_version": "1.5.0",
          "state": {
            "_dom_classes": [],
            "_model_module": "@jupyter-widgets/controls",
            "_model_module_version": "1.5.0",
            "_model_name": "FloatProgressModel",
            "_view_count": null,
            "_view_module": "@jupyter-widgets/controls",
            "_view_module_version": "1.5.0",
            "_view_name": "ProgressView",
            "bar_style": "success",
            "description": "",
            "description_tooltip": null,
            "layout": "IPY_MODEL_d936fd0556064d578216e1bed9b38906",
            "max": 570,
            "min": 0,
            "orientation": "horizontal",
            "style": "IPY_MODEL_71ae8202c06343fd8b8dc0c7d1b5a36e",
            "value": 570
          }
        },
        "cffefc9d6cf14afdae29538ce9c4306a": {
          "model_module": "@jupyter-widgets/controls",
          "model_name": "HTMLModel",
          "model_module_version": "1.5.0",
          "state": {
            "_dom_classes": [],
            "_model_module": "@jupyter-widgets/controls",
            "_model_module_version": "1.5.0",
            "_model_name": "HTMLModel",
            "_view_count": null,
            "_view_module": "@jupyter-widgets/controls",
            "_view_module_version": "1.5.0",
            "_view_name": "HTMLView",
            "description": "",
            "description_tooltip": null,
            "layout": "IPY_MODEL_c7fa86a5aec145da9873350820869186",
            "placeholder": "​",
            "style": "IPY_MODEL_7bc9f5689e544948a8de0bf3c7483320",
            "value": " 570/570 [00:00&lt;00:00, 17.4kB/s]"
          }
        },
        "f9d4ef6750354c4087740c20e4ecca7c": {
          "model_module": "@jupyter-widgets/base",
          "model_name": "LayoutModel",
          "model_module_version": "1.2.0",
          "state": {
            "_model_module": "@jupyter-widgets/base",
            "_model_module_version": "1.2.0",
            "_model_name": "LayoutModel",
            "_view_count": null,
            "_view_module": "@jupyter-widgets/base",
            "_view_module_version": "1.2.0",
            "_view_name": "LayoutView",
            "align_content": null,
            "align_items": null,
            "align_self": null,
            "border": null,
            "bottom": null,
            "display": null,
            "flex": null,
            "flex_flow": null,
            "grid_area": null,
            "grid_auto_columns": null,
            "grid_auto_flow": null,
            "grid_auto_rows": null,
            "grid_column": null,
            "grid_gap": null,
            "grid_row": null,
            "grid_template_areas": null,
            "grid_template_columns": null,
            "grid_template_rows": null,
            "height": null,
            "justify_content": null,
            "justify_items": null,
            "left": null,
            "margin": null,
            "max_height": null,
            "max_width": null,
            "min_height": null,
            "min_width": null,
            "object_fit": null,
            "object_position": null,
            "order": null,
            "overflow": null,
            "overflow_x": null,
            "overflow_y": null,
            "padding": null,
            "right": null,
            "top": null,
            "visibility": null,
            "width": null
          }
        },
        "f72847b38e734b9ba47dc341e8808fbd": {
          "model_module": "@jupyter-widgets/base",
          "model_name": "LayoutModel",
          "model_module_version": "1.2.0",
          "state": {
            "_model_module": "@jupyter-widgets/base",
            "_model_module_version": "1.2.0",
            "_model_name": "LayoutModel",
            "_view_count": null,
            "_view_module": "@jupyter-widgets/base",
            "_view_module_version": "1.2.0",
            "_view_name": "LayoutView",
            "align_content": null,
            "align_items": null,
            "align_self": null,
            "border": null,
            "bottom": null,
            "display": null,
            "flex": null,
            "flex_flow": null,
            "grid_area": null,
            "grid_auto_columns": null,
            "grid_auto_flow": null,
            "grid_auto_rows": null,
            "grid_column": null,
            "grid_gap": null,
            "grid_row": null,
            "grid_template_areas": null,
            "grid_template_columns": null,
            "grid_template_rows": null,
            "height": null,
            "justify_content": null,
            "justify_items": null,
            "left": null,
            "margin": null,
            "max_height": null,
            "max_width": null,
            "min_height": null,
            "min_width": null,
            "object_fit": null,
            "object_position": null,
            "order": null,
            "overflow": null,
            "overflow_x": null,
            "overflow_y": null,
            "padding": null,
            "right": null,
            "top": null,
            "visibility": null,
            "width": null
          }
        },
        "721145f8695d4b75abfa9336a213d219": {
          "model_module": "@jupyter-widgets/controls",
          "model_name": "DescriptionStyleModel",
          "model_module_version": "1.5.0",
          "state": {
            "_model_module": "@jupyter-widgets/controls",
            "_model_module_version": "1.5.0",
            "_model_name": "DescriptionStyleModel",
            "_view_count": null,
            "_view_module": "@jupyter-widgets/base",
            "_view_module_version": "1.2.0",
            "_view_name": "StyleView",
            "description_width": ""
          }
        },
        "d936fd0556064d578216e1bed9b38906": {
          "model_module": "@jupyter-widgets/base",
          "model_name": "LayoutModel",
          "model_module_version": "1.2.0",
          "state": {
            "_model_module": "@jupyter-widgets/base",
            "_model_module_version": "1.2.0",
            "_model_name": "LayoutModel",
            "_view_count": null,
            "_view_module": "@jupyter-widgets/base",
            "_view_module_version": "1.2.0",
            "_view_name": "LayoutView",
            "align_content": null,
            "align_items": null,
            "align_self": null,
            "border": null,
            "bottom": null,
            "display": null,
            "flex": null,
            "flex_flow": null,
            "grid_area": null,
            "grid_auto_columns": null,
            "grid_auto_flow": null,
            "grid_auto_rows": null,
            "grid_column": null,
            "grid_gap": null,
            "grid_row": null,
            "grid_template_areas": null,
            "grid_template_columns": null,
            "grid_template_rows": null,
            "height": null,
            "justify_content": null,
            "justify_items": null,
            "left": null,
            "margin": null,
            "max_height": null,
            "max_width": null,
            "min_height": null,
            "min_width": null,
            "object_fit": null,
            "object_position": null,
            "order": null,
            "overflow": null,
            "overflow_x": null,
            "overflow_y": null,
            "padding": null,
            "right": null,
            "top": null,
            "visibility": null,
            "width": null
          }
        },
        "71ae8202c06343fd8b8dc0c7d1b5a36e": {
          "model_module": "@jupyter-widgets/controls",
          "model_name": "ProgressStyleModel",
          "model_module_version": "1.5.0",
          "state": {
            "_model_module": "@jupyter-widgets/controls",
            "_model_module_version": "1.5.0",
            "_model_name": "ProgressStyleModel",
            "_view_count": null,
            "_view_module": "@jupyter-widgets/base",
            "_view_module_version": "1.2.0",
            "_view_name": "StyleView",
            "bar_color": null,
            "description_width": ""
          }
        },
        "c7fa86a5aec145da9873350820869186": {
          "model_module": "@jupyter-widgets/base",
          "model_name": "LayoutModel",
          "model_module_version": "1.2.0",
          "state": {
            "_model_module": "@jupyter-widgets/base",
            "_model_module_version": "1.2.0",
            "_model_name": "LayoutModel",
            "_view_count": null,
            "_view_module": "@jupyter-widgets/base",
            "_view_module_version": "1.2.0",
            "_view_name": "LayoutView",
            "align_content": null,
            "align_items": null,
            "align_self": null,
            "border": null,
            "bottom": null,
            "display": null,
            "flex": null,
            "flex_flow": null,
            "grid_area": null,
            "grid_auto_columns": null,
            "grid_auto_flow": null,
            "grid_auto_rows": null,
            "grid_column": null,
            "grid_gap": null,
            "grid_row": null,
            "grid_template_areas": null,
            "grid_template_columns": null,
            "grid_template_rows": null,
            "height": null,
            "justify_content": null,
            "justify_items": null,
            "left": null,
            "margin": null,
            "max_height": null,
            "max_width": null,
            "min_height": null,
            "min_width": null,
            "object_fit": null,
            "object_position": null,
            "order": null,
            "overflow": null,
            "overflow_x": null,
            "overflow_y": null,
            "padding": null,
            "right": null,
            "top": null,
            "visibility": null,
            "width": null
          }
        },
        "7bc9f5689e544948a8de0bf3c7483320": {
          "model_module": "@jupyter-widgets/controls",
          "model_name": "DescriptionStyleModel",
          "model_module_version": "1.5.0",
          "state": {
            "_model_module": "@jupyter-widgets/controls",
            "_model_module_version": "1.5.0",
            "_model_name": "DescriptionStyleModel",
            "_view_count": null,
            "_view_module": "@jupyter-widgets/base",
            "_view_module_version": "1.2.0",
            "_view_name": "StyleView",
            "description_width": ""
          }
        },
        "05531a694477417fa52622d96d87a184": {
          "model_module": "@jupyter-widgets/controls",
          "model_name": "HBoxModel",
          "model_module_version": "1.5.0",
          "state": {
            "_dom_classes": [],
            "_model_module": "@jupyter-widgets/controls",
            "_model_module_version": "1.5.0",
            "_model_name": "HBoxModel",
            "_view_count": null,
            "_view_module": "@jupyter-widgets/controls",
            "_view_module_version": "1.5.0",
            "_view_name": "HBoxView",
            "box_style": "",
            "children": [
              "IPY_MODEL_337aeed7b6154f0393227b6b438986b4",
              "IPY_MODEL_a574756d318b46aaa83ff5ca9f6d571f",
              "IPY_MODEL_9312e2e065e54f40a36dda0360641c2f"
            ],
            "layout": "IPY_MODEL_94ad4753edf64d2ca535f6a837406f20"
          }
        },
        "337aeed7b6154f0393227b6b438986b4": {
          "model_module": "@jupyter-widgets/controls",
          "model_name": "HTMLModel",
          "model_module_version": "1.5.0",
          "state": {
            "_dom_classes": [],
            "_model_module": "@jupyter-widgets/controls",
            "_model_module_version": "1.5.0",
            "_model_name": "HTMLModel",
            "_view_count": null,
            "_view_module": "@jupyter-widgets/controls",
            "_view_module_version": "1.5.0",
            "_view_name": "HTMLView",
            "description": "",
            "description_tooltip": null,
            "layout": "IPY_MODEL_46caddb9a52e466882e539999a64d63e",
            "placeholder": "​",
            "style": "IPY_MODEL_be065af39ea14d629147e04c67bfed73",
            "value": "Downloading model.safetensors: 100%"
          }
        },
        "a574756d318b46aaa83ff5ca9f6d571f": {
          "model_module": "@jupyter-widgets/controls",
          "model_name": "FloatProgressModel",
          "model_module_version": "1.5.0",
          "state": {
            "_dom_classes": [],
            "_model_module": "@jupyter-widgets/controls",
            "_model_module_version": "1.5.0",
            "_model_name": "FloatProgressModel",
            "_view_count": null,
            "_view_module": "@jupyter-widgets/controls",
            "_view_module_version": "1.5.0",
            "_view_name": "ProgressView",
            "bar_style": "success",
            "description": "",
            "description_tooltip": null,
            "layout": "IPY_MODEL_a6304033eecf4fb28671f8bbc52a1278",
            "max": 440449768,
            "min": 0,
            "orientation": "horizontal",
            "style": "IPY_MODEL_5e5215a577944f4d85336a5086e2123e",
            "value": 440449768
          }
        },
        "9312e2e065e54f40a36dda0360641c2f": {
          "model_module": "@jupyter-widgets/controls",
          "model_name": "HTMLModel",
          "model_module_version": "1.5.0",
          "state": {
            "_dom_classes": [],
            "_model_module": "@jupyter-widgets/controls",
            "_model_module_version": "1.5.0",
            "_model_name": "HTMLModel",
            "_view_count": null,
            "_view_module": "@jupyter-widgets/controls",
            "_view_module_version": "1.5.0",
            "_view_name": "HTMLView",
            "description": "",
            "description_tooltip": null,
            "layout": "IPY_MODEL_4190e1ef8c6d4a6589eaa8818b96fd24",
            "placeholder": "​",
            "style": "IPY_MODEL_1efc391cf9b64405a8edc7dcf0652f73",
            "value": " 440M/440M [00:04&lt;00:00, 118MB/s]"
          }
        },
        "94ad4753edf64d2ca535f6a837406f20": {
          "model_module": "@jupyter-widgets/base",
          "model_name": "LayoutModel",
          "model_module_version": "1.2.0",
          "state": {
            "_model_module": "@jupyter-widgets/base",
            "_model_module_version": "1.2.0",
            "_model_name": "LayoutModel",
            "_view_count": null,
            "_view_module": "@jupyter-widgets/base",
            "_view_module_version": "1.2.0",
            "_view_name": "LayoutView",
            "align_content": null,
            "align_items": null,
            "align_self": null,
            "border": null,
            "bottom": null,
            "display": null,
            "flex": null,
            "flex_flow": null,
            "grid_area": null,
            "grid_auto_columns": null,
            "grid_auto_flow": null,
            "grid_auto_rows": null,
            "grid_column": null,
            "grid_gap": null,
            "grid_row": null,
            "grid_template_areas": null,
            "grid_template_columns": null,
            "grid_template_rows": null,
            "height": null,
            "justify_content": null,
            "justify_items": null,
            "left": null,
            "margin": null,
            "max_height": null,
            "max_width": null,
            "min_height": null,
            "min_width": null,
            "object_fit": null,
            "object_position": null,
            "order": null,
            "overflow": null,
            "overflow_x": null,
            "overflow_y": null,
            "padding": null,
            "right": null,
            "top": null,
            "visibility": null,
            "width": null
          }
        },
        "46caddb9a52e466882e539999a64d63e": {
          "model_module": "@jupyter-widgets/base",
          "model_name": "LayoutModel",
          "model_module_version": "1.2.0",
          "state": {
            "_model_module": "@jupyter-widgets/base",
            "_model_module_version": "1.2.0",
            "_model_name": "LayoutModel",
            "_view_count": null,
            "_view_module": "@jupyter-widgets/base",
            "_view_module_version": "1.2.0",
            "_view_name": "LayoutView",
            "align_content": null,
            "align_items": null,
            "align_self": null,
            "border": null,
            "bottom": null,
            "display": null,
            "flex": null,
            "flex_flow": null,
            "grid_area": null,
            "grid_auto_columns": null,
            "grid_auto_flow": null,
            "grid_auto_rows": null,
            "grid_column": null,
            "grid_gap": null,
            "grid_row": null,
            "grid_template_areas": null,
            "grid_template_columns": null,
            "grid_template_rows": null,
            "height": null,
            "justify_content": null,
            "justify_items": null,
            "left": null,
            "margin": null,
            "max_height": null,
            "max_width": null,
            "min_height": null,
            "min_width": null,
            "object_fit": null,
            "object_position": null,
            "order": null,
            "overflow": null,
            "overflow_x": null,
            "overflow_y": null,
            "padding": null,
            "right": null,
            "top": null,
            "visibility": null,
            "width": null
          }
        },
        "be065af39ea14d629147e04c67bfed73": {
          "model_module": "@jupyter-widgets/controls",
          "model_name": "DescriptionStyleModel",
          "model_module_version": "1.5.0",
          "state": {
            "_model_module": "@jupyter-widgets/controls",
            "_model_module_version": "1.5.0",
            "_model_name": "DescriptionStyleModel",
            "_view_count": null,
            "_view_module": "@jupyter-widgets/base",
            "_view_module_version": "1.2.0",
            "_view_name": "StyleView",
            "description_width": ""
          }
        },
        "a6304033eecf4fb28671f8bbc52a1278": {
          "model_module": "@jupyter-widgets/base",
          "model_name": "LayoutModel",
          "model_module_version": "1.2.0",
          "state": {
            "_model_module": "@jupyter-widgets/base",
            "_model_module_version": "1.2.0",
            "_model_name": "LayoutModel",
            "_view_count": null,
            "_view_module": "@jupyter-widgets/base",
            "_view_module_version": "1.2.0",
            "_view_name": "LayoutView",
            "align_content": null,
            "align_items": null,
            "align_self": null,
            "border": null,
            "bottom": null,
            "display": null,
            "flex": null,
            "flex_flow": null,
            "grid_area": null,
            "grid_auto_columns": null,
            "grid_auto_flow": null,
            "grid_auto_rows": null,
            "grid_column": null,
            "grid_gap": null,
            "grid_row": null,
            "grid_template_areas": null,
            "grid_template_columns": null,
            "grid_template_rows": null,
            "height": null,
            "justify_content": null,
            "justify_items": null,
            "left": null,
            "margin": null,
            "max_height": null,
            "max_width": null,
            "min_height": null,
            "min_width": null,
            "object_fit": null,
            "object_position": null,
            "order": null,
            "overflow": null,
            "overflow_x": null,
            "overflow_y": null,
            "padding": null,
            "right": null,
            "top": null,
            "visibility": null,
            "width": null
          }
        },
        "5e5215a577944f4d85336a5086e2123e": {
          "model_module": "@jupyter-widgets/controls",
          "model_name": "ProgressStyleModel",
          "model_module_version": "1.5.0",
          "state": {
            "_model_module": "@jupyter-widgets/controls",
            "_model_module_version": "1.5.0",
            "_model_name": "ProgressStyleModel",
            "_view_count": null,
            "_view_module": "@jupyter-widgets/base",
            "_view_module_version": "1.2.0",
            "_view_name": "StyleView",
            "bar_color": null,
            "description_width": ""
          }
        },
        "4190e1ef8c6d4a6589eaa8818b96fd24": {
          "model_module": "@jupyter-widgets/base",
          "model_name": "LayoutModel",
          "model_module_version": "1.2.0",
          "state": {
            "_model_module": "@jupyter-widgets/base",
            "_model_module_version": "1.2.0",
            "_model_name": "LayoutModel",
            "_view_count": null,
            "_view_module": "@jupyter-widgets/base",
            "_view_module_version": "1.2.0",
            "_view_name": "LayoutView",
            "align_content": null,
            "align_items": null,
            "align_self": null,
            "border": null,
            "bottom": null,
            "display": null,
            "flex": null,
            "flex_flow": null,
            "grid_area": null,
            "grid_auto_columns": null,
            "grid_auto_flow": null,
            "grid_auto_rows": null,
            "grid_column": null,
            "grid_gap": null,
            "grid_row": null,
            "grid_template_areas": null,
            "grid_template_columns": null,
            "grid_template_rows": null,
            "height": null,
            "justify_content": null,
            "justify_items": null,
            "left": null,
            "margin": null,
            "max_height": null,
            "max_width": null,
            "min_height": null,
            "min_width": null,
            "object_fit": null,
            "object_position": null,
            "order": null,
            "overflow": null,
            "overflow_x": null,
            "overflow_y": null,
            "padding": null,
            "right": null,
            "top": null,
            "visibility": null,
            "width": null
          }
        },
        "1efc391cf9b64405a8edc7dcf0652f73": {
          "model_module": "@jupyter-widgets/controls",
          "model_name": "DescriptionStyleModel",
          "model_module_version": "1.5.0",
          "state": {
            "_model_module": "@jupyter-widgets/controls",
            "_model_module_version": "1.5.0",
            "_model_name": "DescriptionStyleModel",
            "_view_count": null,
            "_view_module": "@jupyter-widgets/base",
            "_view_module_version": "1.2.0",
            "_view_name": "StyleView",
            "description_width": ""
          }
        },
        "1fa3de319a0c4888b904689ce05bd51b": {
          "model_module": "@jupyter-widgets/controls",
          "model_name": "HBoxModel",
          "model_module_version": "1.5.0",
          "state": {
            "_dom_classes": [],
            "_model_module": "@jupyter-widgets/controls",
            "_model_module_version": "1.5.0",
            "_model_name": "HBoxModel",
            "_view_count": null,
            "_view_module": "@jupyter-widgets/controls",
            "_view_module_version": "1.5.0",
            "_view_name": "HBoxView",
            "box_style": "",
            "children": [
              "IPY_MODEL_b29dd6d0dbca4ab3be22bd8be4ca4220",
              "IPY_MODEL_959bdcfce1624095996aa95cd3008379",
              "IPY_MODEL_745678c5c9f843dd9ab0c70601a63732"
            ],
            "layout": "IPY_MODEL_66e862a5ddbd422ea4900245fb73b523"
          }
        },
        "b29dd6d0dbca4ab3be22bd8be4ca4220": {
          "model_module": "@jupyter-widgets/controls",
          "model_name": "HTMLModel",
          "model_module_version": "1.5.0",
          "state": {
            "_dom_classes": [],
            "_model_module": "@jupyter-widgets/controls",
            "_model_module_version": "1.5.0",
            "_model_name": "HTMLModel",
            "_view_count": null,
            "_view_module": "@jupyter-widgets/controls",
            "_view_module_version": "1.5.0",
            "_view_name": "HTMLView",
            "description": "",
            "description_tooltip": null,
            "layout": "IPY_MODEL_ad5935f633cf4e7eb5552baa1f44eaea",
            "placeholder": "​",
            "style": "IPY_MODEL_f426585176a746099b1d11388a769d27",
            "value": "Downloading (…)okenizer_config.json: 100%"
          }
        },
        "959bdcfce1624095996aa95cd3008379": {
          "model_module": "@jupyter-widgets/controls",
          "model_name": "FloatProgressModel",
          "model_module_version": "1.5.0",
          "state": {
            "_dom_classes": [],
            "_model_module": "@jupyter-widgets/controls",
            "_model_module_version": "1.5.0",
            "_model_name": "FloatProgressModel",
            "_view_count": null,
            "_view_module": "@jupyter-widgets/controls",
            "_view_module_version": "1.5.0",
            "_view_name": "ProgressView",
            "bar_style": "success",
            "description": "",
            "description_tooltip": null,
            "layout": "IPY_MODEL_f4ed468ea84242138433cd5c821fc631",
            "max": 28,
            "min": 0,
            "orientation": "horizontal",
            "style": "IPY_MODEL_bca3998db5e8442dbff5ee7b6b59e340",
            "value": 28
          }
        },
        "745678c5c9f843dd9ab0c70601a63732": {
          "model_module": "@jupyter-widgets/controls",
          "model_name": "HTMLModel",
          "model_module_version": "1.5.0",
          "state": {
            "_dom_classes": [],
            "_model_module": "@jupyter-widgets/controls",
            "_model_module_version": "1.5.0",
            "_model_name": "HTMLModel",
            "_view_count": null,
            "_view_module": "@jupyter-widgets/controls",
            "_view_module_version": "1.5.0",
            "_view_name": "HTMLView",
            "description": "",
            "description_tooltip": null,
            "layout": "IPY_MODEL_314fc0c855a949cf9632f73a14ee7d2b",
            "placeholder": "​",
            "style": "IPY_MODEL_6fa2752cf7504c89b6b815c33d24969a",
            "value": " 28.0/28.0 [00:00&lt;00:00, 433B/s]"
          }
        },
        "66e862a5ddbd422ea4900245fb73b523": {
          "model_module": "@jupyter-widgets/base",
          "model_name": "LayoutModel",
          "model_module_version": "1.2.0",
          "state": {
            "_model_module": "@jupyter-widgets/base",
            "_model_module_version": "1.2.0",
            "_model_name": "LayoutModel",
            "_view_count": null,
            "_view_module": "@jupyter-widgets/base",
            "_view_module_version": "1.2.0",
            "_view_name": "LayoutView",
            "align_content": null,
            "align_items": null,
            "align_self": null,
            "border": null,
            "bottom": null,
            "display": null,
            "flex": null,
            "flex_flow": null,
            "grid_area": null,
            "grid_auto_columns": null,
            "grid_auto_flow": null,
            "grid_auto_rows": null,
            "grid_column": null,
            "grid_gap": null,
            "grid_row": null,
            "grid_template_areas": null,
            "grid_template_columns": null,
            "grid_template_rows": null,
            "height": null,
            "justify_content": null,
            "justify_items": null,
            "left": null,
            "margin": null,
            "max_height": null,
            "max_width": null,
            "min_height": null,
            "min_width": null,
            "object_fit": null,
            "object_position": null,
            "order": null,
            "overflow": null,
            "overflow_x": null,
            "overflow_y": null,
            "padding": null,
            "right": null,
            "top": null,
            "visibility": null,
            "width": null
          }
        },
        "ad5935f633cf4e7eb5552baa1f44eaea": {
          "model_module": "@jupyter-widgets/base",
          "model_name": "LayoutModel",
          "model_module_version": "1.2.0",
          "state": {
            "_model_module": "@jupyter-widgets/base",
            "_model_module_version": "1.2.0",
            "_model_name": "LayoutModel",
            "_view_count": null,
            "_view_module": "@jupyter-widgets/base",
            "_view_module_version": "1.2.0",
            "_view_name": "LayoutView",
            "align_content": null,
            "align_items": null,
            "align_self": null,
            "border": null,
            "bottom": null,
            "display": null,
            "flex": null,
            "flex_flow": null,
            "grid_area": null,
            "grid_auto_columns": null,
            "grid_auto_flow": null,
            "grid_auto_rows": null,
            "grid_column": null,
            "grid_gap": null,
            "grid_row": null,
            "grid_template_areas": null,
            "grid_template_columns": null,
            "grid_template_rows": null,
            "height": null,
            "justify_content": null,
            "justify_items": null,
            "left": null,
            "margin": null,
            "max_height": null,
            "max_width": null,
            "min_height": null,
            "min_width": null,
            "object_fit": null,
            "object_position": null,
            "order": null,
            "overflow": null,
            "overflow_x": null,
            "overflow_y": null,
            "padding": null,
            "right": null,
            "top": null,
            "visibility": null,
            "width": null
          }
        },
        "f426585176a746099b1d11388a769d27": {
          "model_module": "@jupyter-widgets/controls",
          "model_name": "DescriptionStyleModel",
          "model_module_version": "1.5.0",
          "state": {
            "_model_module": "@jupyter-widgets/controls",
            "_model_module_version": "1.5.0",
            "_model_name": "DescriptionStyleModel",
            "_view_count": null,
            "_view_module": "@jupyter-widgets/base",
            "_view_module_version": "1.2.0",
            "_view_name": "StyleView",
            "description_width": ""
          }
        },
        "f4ed468ea84242138433cd5c821fc631": {
          "model_module": "@jupyter-widgets/base",
          "model_name": "LayoutModel",
          "model_module_version": "1.2.0",
          "state": {
            "_model_module": "@jupyter-widgets/base",
            "_model_module_version": "1.2.0",
            "_model_name": "LayoutModel",
            "_view_count": null,
            "_view_module": "@jupyter-widgets/base",
            "_view_module_version": "1.2.0",
            "_view_name": "LayoutView",
            "align_content": null,
            "align_items": null,
            "align_self": null,
            "border": null,
            "bottom": null,
            "display": null,
            "flex": null,
            "flex_flow": null,
            "grid_area": null,
            "grid_auto_columns": null,
            "grid_auto_flow": null,
            "grid_auto_rows": null,
            "grid_column": null,
            "grid_gap": null,
            "grid_row": null,
            "grid_template_areas": null,
            "grid_template_columns": null,
            "grid_template_rows": null,
            "height": null,
            "justify_content": null,
            "justify_items": null,
            "left": null,
            "margin": null,
            "max_height": null,
            "max_width": null,
            "min_height": null,
            "min_width": null,
            "object_fit": null,
            "object_position": null,
            "order": null,
            "overflow": null,
            "overflow_x": null,
            "overflow_y": null,
            "padding": null,
            "right": null,
            "top": null,
            "visibility": null,
            "width": null
          }
        },
        "bca3998db5e8442dbff5ee7b6b59e340": {
          "model_module": "@jupyter-widgets/controls",
          "model_name": "ProgressStyleModel",
          "model_module_version": "1.5.0",
          "state": {
            "_model_module": "@jupyter-widgets/controls",
            "_model_module_version": "1.5.0",
            "_model_name": "ProgressStyleModel",
            "_view_count": null,
            "_view_module": "@jupyter-widgets/base",
            "_view_module_version": "1.2.0",
            "_view_name": "StyleView",
            "bar_color": null,
            "description_width": ""
          }
        },
        "314fc0c855a949cf9632f73a14ee7d2b": {
          "model_module": "@jupyter-widgets/base",
          "model_name": "LayoutModel",
          "model_module_version": "1.2.0",
          "state": {
            "_model_module": "@jupyter-widgets/base",
            "_model_module_version": "1.2.0",
            "_model_name": "LayoutModel",
            "_view_count": null,
            "_view_module": "@jupyter-widgets/base",
            "_view_module_version": "1.2.0",
            "_view_name": "LayoutView",
            "align_content": null,
            "align_items": null,
            "align_self": null,
            "border": null,
            "bottom": null,
            "display": null,
            "flex": null,
            "flex_flow": null,
            "grid_area": null,
            "grid_auto_columns": null,
            "grid_auto_flow": null,
            "grid_auto_rows": null,
            "grid_column": null,
            "grid_gap": null,
            "grid_row": null,
            "grid_template_areas": null,
            "grid_template_columns": null,
            "grid_template_rows": null,
            "height": null,
            "justify_content": null,
            "justify_items": null,
            "left": null,
            "margin": null,
            "max_height": null,
            "max_width": null,
            "min_height": null,
            "min_width": null,
            "object_fit": null,
            "object_position": null,
            "order": null,
            "overflow": null,
            "overflow_x": null,
            "overflow_y": null,
            "padding": null,
            "right": null,
            "top": null,
            "visibility": null,
            "width": null
          }
        },
        "6fa2752cf7504c89b6b815c33d24969a": {
          "model_module": "@jupyter-widgets/controls",
          "model_name": "DescriptionStyleModel",
          "model_module_version": "1.5.0",
          "state": {
            "_model_module": "@jupyter-widgets/controls",
            "_model_module_version": "1.5.0",
            "_model_name": "DescriptionStyleModel",
            "_view_count": null,
            "_view_module": "@jupyter-widgets/base",
            "_view_module_version": "1.2.0",
            "_view_name": "StyleView",
            "description_width": ""
          }
        },
        "af59435a332e4124addd87fc302e5047": {
          "model_module": "@jupyter-widgets/controls",
          "model_name": "HBoxModel",
          "model_module_version": "1.5.0",
          "state": {
            "_dom_classes": [],
            "_model_module": "@jupyter-widgets/controls",
            "_model_module_version": "1.5.0",
            "_model_name": "HBoxModel",
            "_view_count": null,
            "_view_module": "@jupyter-widgets/controls",
            "_view_module_version": "1.5.0",
            "_view_name": "HBoxView",
            "box_style": "",
            "children": [
              "IPY_MODEL_fd9bf55eca14411683ad241b3972f93a",
              "IPY_MODEL_714fa16b4e1449998ac1cd07b7501aa5",
              "IPY_MODEL_0fd3e704d7f047a68acbdd42fbcfa4b4"
            ],
            "layout": "IPY_MODEL_f50c08804cda4cc689e7272e6d5136dd"
          }
        },
        "fd9bf55eca14411683ad241b3972f93a": {
          "model_module": "@jupyter-widgets/controls",
          "model_name": "HTMLModel",
          "model_module_version": "1.5.0",
          "state": {
            "_dom_classes": [],
            "_model_module": "@jupyter-widgets/controls",
            "_model_module_version": "1.5.0",
            "_model_name": "HTMLModel",
            "_view_count": null,
            "_view_module": "@jupyter-widgets/controls",
            "_view_module_version": "1.5.0",
            "_view_name": "HTMLView",
            "description": "",
            "description_tooltip": null,
            "layout": "IPY_MODEL_e01c6baaad3a4c4b9ae3a340d0e6fa6b",
            "placeholder": "​",
            "style": "IPY_MODEL_f5ed28952aea4cc3b5ed6cbd0a5084a4",
            "value": "Downloading (…)solve/main/vocab.txt: 100%"
          }
        },
        "714fa16b4e1449998ac1cd07b7501aa5": {
          "model_module": "@jupyter-widgets/controls",
          "model_name": "FloatProgressModel",
          "model_module_version": "1.5.0",
          "state": {
            "_dom_classes": [],
            "_model_module": "@jupyter-widgets/controls",
            "_model_module_version": "1.5.0",
            "_model_name": "FloatProgressModel",
            "_view_count": null,
            "_view_module": "@jupyter-widgets/controls",
            "_view_module_version": "1.5.0",
            "_view_name": "ProgressView",
            "bar_style": "success",
            "description": "",
            "description_tooltip": null,
            "layout": "IPY_MODEL_775150dd93684817a0cfc7bc6b47ef92",
            "max": 231508,
            "min": 0,
            "orientation": "horizontal",
            "style": "IPY_MODEL_bf6f1183f70247d68edc36fcff9663f4",
            "value": 231508
          }
        },
        "0fd3e704d7f047a68acbdd42fbcfa4b4": {
          "model_module": "@jupyter-widgets/controls",
          "model_name": "HTMLModel",
          "model_module_version": "1.5.0",
          "state": {
            "_dom_classes": [],
            "_model_module": "@jupyter-widgets/controls",
            "_model_module_version": "1.5.0",
            "_model_name": "HTMLModel",
            "_view_count": null,
            "_view_module": "@jupyter-widgets/controls",
            "_view_module_version": "1.5.0",
            "_view_name": "HTMLView",
            "description": "",
            "description_tooltip": null,
            "layout": "IPY_MODEL_a57bf690a71a46c3900e5dbd7b1bd2c3",
            "placeholder": "​",
            "style": "IPY_MODEL_b5ee56f543e3426cbe9bdb681d4ac400",
            "value": " 232k/232k [00:00&lt;00:00, 4.22MB/s]"
          }
        },
        "f50c08804cda4cc689e7272e6d5136dd": {
          "model_module": "@jupyter-widgets/base",
          "model_name": "LayoutModel",
          "model_module_version": "1.2.0",
          "state": {
            "_model_module": "@jupyter-widgets/base",
            "_model_module_version": "1.2.0",
            "_model_name": "LayoutModel",
            "_view_count": null,
            "_view_module": "@jupyter-widgets/base",
            "_view_module_version": "1.2.0",
            "_view_name": "LayoutView",
            "align_content": null,
            "align_items": null,
            "align_self": null,
            "border": null,
            "bottom": null,
            "display": null,
            "flex": null,
            "flex_flow": null,
            "grid_area": null,
            "grid_auto_columns": null,
            "grid_auto_flow": null,
            "grid_auto_rows": null,
            "grid_column": null,
            "grid_gap": null,
            "grid_row": null,
            "grid_template_areas": null,
            "grid_template_columns": null,
            "grid_template_rows": null,
            "height": null,
            "justify_content": null,
            "justify_items": null,
            "left": null,
            "margin": null,
            "max_height": null,
            "max_width": null,
            "min_height": null,
            "min_width": null,
            "object_fit": null,
            "object_position": null,
            "order": null,
            "overflow": null,
            "overflow_x": null,
            "overflow_y": null,
            "padding": null,
            "right": null,
            "top": null,
            "visibility": null,
            "width": null
          }
        },
        "e01c6baaad3a4c4b9ae3a340d0e6fa6b": {
          "model_module": "@jupyter-widgets/base",
          "model_name": "LayoutModel",
          "model_module_version": "1.2.0",
          "state": {
            "_model_module": "@jupyter-widgets/base",
            "_model_module_version": "1.2.0",
            "_model_name": "LayoutModel",
            "_view_count": null,
            "_view_module": "@jupyter-widgets/base",
            "_view_module_version": "1.2.0",
            "_view_name": "LayoutView",
            "align_content": null,
            "align_items": null,
            "align_self": null,
            "border": null,
            "bottom": null,
            "display": null,
            "flex": null,
            "flex_flow": null,
            "grid_area": null,
            "grid_auto_columns": null,
            "grid_auto_flow": null,
            "grid_auto_rows": null,
            "grid_column": null,
            "grid_gap": null,
            "grid_row": null,
            "grid_template_areas": null,
            "grid_template_columns": null,
            "grid_template_rows": null,
            "height": null,
            "justify_content": null,
            "justify_items": null,
            "left": null,
            "margin": null,
            "max_height": null,
            "max_width": null,
            "min_height": null,
            "min_width": null,
            "object_fit": null,
            "object_position": null,
            "order": null,
            "overflow": null,
            "overflow_x": null,
            "overflow_y": null,
            "padding": null,
            "right": null,
            "top": null,
            "visibility": null,
            "width": null
          }
        },
        "f5ed28952aea4cc3b5ed6cbd0a5084a4": {
          "model_module": "@jupyter-widgets/controls",
          "model_name": "DescriptionStyleModel",
          "model_module_version": "1.5.0",
          "state": {
            "_model_module": "@jupyter-widgets/controls",
            "_model_module_version": "1.5.0",
            "_model_name": "DescriptionStyleModel",
            "_view_count": null,
            "_view_module": "@jupyter-widgets/base",
            "_view_module_version": "1.2.0",
            "_view_name": "StyleView",
            "description_width": ""
          }
        },
        "775150dd93684817a0cfc7bc6b47ef92": {
          "model_module": "@jupyter-widgets/base",
          "model_name": "LayoutModel",
          "model_module_version": "1.2.0",
          "state": {
            "_model_module": "@jupyter-widgets/base",
            "_model_module_version": "1.2.0",
            "_model_name": "LayoutModel",
            "_view_count": null,
            "_view_module": "@jupyter-widgets/base",
            "_view_module_version": "1.2.0",
            "_view_name": "LayoutView",
            "align_content": null,
            "align_items": null,
            "align_self": null,
            "border": null,
            "bottom": null,
            "display": null,
            "flex": null,
            "flex_flow": null,
            "grid_area": null,
            "grid_auto_columns": null,
            "grid_auto_flow": null,
            "grid_auto_rows": null,
            "grid_column": null,
            "grid_gap": null,
            "grid_row": null,
            "grid_template_areas": null,
            "grid_template_columns": null,
            "grid_template_rows": null,
            "height": null,
            "justify_content": null,
            "justify_items": null,
            "left": null,
            "margin": null,
            "max_height": null,
            "max_width": null,
            "min_height": null,
            "min_width": null,
            "object_fit": null,
            "object_position": null,
            "order": null,
            "overflow": null,
            "overflow_x": null,
            "overflow_y": null,
            "padding": null,
            "right": null,
            "top": null,
            "visibility": null,
            "width": null
          }
        },
        "bf6f1183f70247d68edc36fcff9663f4": {
          "model_module": "@jupyter-widgets/controls",
          "model_name": "ProgressStyleModel",
          "model_module_version": "1.5.0",
          "state": {
            "_model_module": "@jupyter-widgets/controls",
            "_model_module_version": "1.5.0",
            "_model_name": "ProgressStyleModel",
            "_view_count": null,
            "_view_module": "@jupyter-widgets/base",
            "_view_module_version": "1.2.0",
            "_view_name": "StyleView",
            "bar_color": null,
            "description_width": ""
          }
        },
        "a57bf690a71a46c3900e5dbd7b1bd2c3": {
          "model_module": "@jupyter-widgets/base",
          "model_name": "LayoutModel",
          "model_module_version": "1.2.0",
          "state": {
            "_model_module": "@jupyter-widgets/base",
            "_model_module_version": "1.2.0",
            "_model_name": "LayoutModel",
            "_view_count": null,
            "_view_module": "@jupyter-widgets/base",
            "_view_module_version": "1.2.0",
            "_view_name": "LayoutView",
            "align_content": null,
            "align_items": null,
            "align_self": null,
            "border": null,
            "bottom": null,
            "display": null,
            "flex": null,
            "flex_flow": null,
            "grid_area": null,
            "grid_auto_columns": null,
            "grid_auto_flow": null,
            "grid_auto_rows": null,
            "grid_column": null,
            "grid_gap": null,
            "grid_row": null,
            "grid_template_areas": null,
            "grid_template_columns": null,
            "grid_template_rows": null,
            "height": null,
            "justify_content": null,
            "justify_items": null,
            "left": null,
            "margin": null,
            "max_height": null,
            "max_width": null,
            "min_height": null,
            "min_width": null,
            "object_fit": null,
            "object_position": null,
            "order": null,
            "overflow": null,
            "overflow_x": null,
            "overflow_y": null,
            "padding": null,
            "right": null,
            "top": null,
            "visibility": null,
            "width": null
          }
        },
        "b5ee56f543e3426cbe9bdb681d4ac400": {
          "model_module": "@jupyter-widgets/controls",
          "model_name": "DescriptionStyleModel",
          "model_module_version": "1.5.0",
          "state": {
            "_model_module": "@jupyter-widgets/controls",
            "_model_module_version": "1.5.0",
            "_model_name": "DescriptionStyleModel",
            "_view_count": null,
            "_view_module": "@jupyter-widgets/base",
            "_view_module_version": "1.2.0",
            "_view_name": "StyleView",
            "description_width": ""
          }
        },
        "7c1d2ae285c345a19c892a086b498bc2": {
          "model_module": "@jupyter-widgets/controls",
          "model_name": "HBoxModel",
          "model_module_version": "1.5.0",
          "state": {
            "_dom_classes": [],
            "_model_module": "@jupyter-widgets/controls",
            "_model_module_version": "1.5.0",
            "_model_name": "HBoxModel",
            "_view_count": null,
            "_view_module": "@jupyter-widgets/controls",
            "_view_module_version": "1.5.0",
            "_view_name": "HBoxView",
            "box_style": "",
            "children": [
              "IPY_MODEL_dd39ae9ce2a54eeb9018d8880a5809df",
              "IPY_MODEL_64c36c9957744b358a8c9b481261e627",
              "IPY_MODEL_e350ea0034c24f9dae36e8992d940370"
            ],
            "layout": "IPY_MODEL_46c1c14def364d2d960c709d260a0e9c"
          }
        },
        "dd39ae9ce2a54eeb9018d8880a5809df": {
          "model_module": "@jupyter-widgets/controls",
          "model_name": "HTMLModel",
          "model_module_version": "1.5.0",
          "state": {
            "_dom_classes": [],
            "_model_module": "@jupyter-widgets/controls",
            "_model_module_version": "1.5.0",
            "_model_name": "HTMLModel",
            "_view_count": null,
            "_view_module": "@jupyter-widgets/controls",
            "_view_module_version": "1.5.0",
            "_view_name": "HTMLView",
            "description": "",
            "description_tooltip": null,
            "layout": "IPY_MODEL_bd36d12ce49947b488bdaa9cd6e9519e",
            "placeholder": "​",
            "style": "IPY_MODEL_b77912dbbbb148e2b46907a5ce6c4791",
            "value": "Downloading (…)/main/tokenizer.json: 100%"
          }
        },
        "64c36c9957744b358a8c9b481261e627": {
          "model_module": "@jupyter-widgets/controls",
          "model_name": "FloatProgressModel",
          "model_module_version": "1.5.0",
          "state": {
            "_dom_classes": [],
            "_model_module": "@jupyter-widgets/controls",
            "_model_module_version": "1.5.0",
            "_model_name": "FloatProgressModel",
            "_view_count": null,
            "_view_module": "@jupyter-widgets/controls",
            "_view_module_version": "1.5.0",
            "_view_name": "ProgressView",
            "bar_style": "success",
            "description": "",
            "description_tooltip": null,
            "layout": "IPY_MODEL_a4cac2cbac06458593e2935499ebe5f9",
            "max": 466062,
            "min": 0,
            "orientation": "horizontal",
            "style": "IPY_MODEL_99b8f1747a9d4e64ad43a42e92561c8b",
            "value": 466062
          }
        },
        "e350ea0034c24f9dae36e8992d940370": {
          "model_module": "@jupyter-widgets/controls",
          "model_name": "HTMLModel",
          "model_module_version": "1.5.0",
          "state": {
            "_dom_classes": [],
            "_model_module": "@jupyter-widgets/controls",
            "_model_module_version": "1.5.0",
            "_model_name": "HTMLModel",
            "_view_count": null,
            "_view_module": "@jupyter-widgets/controls",
            "_view_module_version": "1.5.0",
            "_view_name": "HTMLView",
            "description": "",
            "description_tooltip": null,
            "layout": "IPY_MODEL_280ea8a567504fb087672ce08f7a911b",
            "placeholder": "​",
            "style": "IPY_MODEL_55d1669dd7b249d680c79bae8018649f",
            "value": " 466k/466k [00:00&lt;00:00, 2.54MB/s]"
          }
        },
        "46c1c14def364d2d960c709d260a0e9c": {
          "model_module": "@jupyter-widgets/base",
          "model_name": "LayoutModel",
          "model_module_version": "1.2.0",
          "state": {
            "_model_module": "@jupyter-widgets/base",
            "_model_module_version": "1.2.0",
            "_model_name": "LayoutModel",
            "_view_count": null,
            "_view_module": "@jupyter-widgets/base",
            "_view_module_version": "1.2.0",
            "_view_name": "LayoutView",
            "align_content": null,
            "align_items": null,
            "align_self": null,
            "border": null,
            "bottom": null,
            "display": null,
            "flex": null,
            "flex_flow": null,
            "grid_area": null,
            "grid_auto_columns": null,
            "grid_auto_flow": null,
            "grid_auto_rows": null,
            "grid_column": null,
            "grid_gap": null,
            "grid_row": null,
            "grid_template_areas": null,
            "grid_template_columns": null,
            "grid_template_rows": null,
            "height": null,
            "justify_content": null,
            "justify_items": null,
            "left": null,
            "margin": null,
            "max_height": null,
            "max_width": null,
            "min_height": null,
            "min_width": null,
            "object_fit": null,
            "object_position": null,
            "order": null,
            "overflow": null,
            "overflow_x": null,
            "overflow_y": null,
            "padding": null,
            "right": null,
            "top": null,
            "visibility": null,
            "width": null
          }
        },
        "bd36d12ce49947b488bdaa9cd6e9519e": {
          "model_module": "@jupyter-widgets/base",
          "model_name": "LayoutModel",
          "model_module_version": "1.2.0",
          "state": {
            "_model_module": "@jupyter-widgets/base",
            "_model_module_version": "1.2.0",
            "_model_name": "LayoutModel",
            "_view_count": null,
            "_view_module": "@jupyter-widgets/base",
            "_view_module_version": "1.2.0",
            "_view_name": "LayoutView",
            "align_content": null,
            "align_items": null,
            "align_self": null,
            "border": null,
            "bottom": null,
            "display": null,
            "flex": null,
            "flex_flow": null,
            "grid_area": null,
            "grid_auto_columns": null,
            "grid_auto_flow": null,
            "grid_auto_rows": null,
            "grid_column": null,
            "grid_gap": null,
            "grid_row": null,
            "grid_template_areas": null,
            "grid_template_columns": null,
            "grid_template_rows": null,
            "height": null,
            "justify_content": null,
            "justify_items": null,
            "left": null,
            "margin": null,
            "max_height": null,
            "max_width": null,
            "min_height": null,
            "min_width": null,
            "object_fit": null,
            "object_position": null,
            "order": null,
            "overflow": null,
            "overflow_x": null,
            "overflow_y": null,
            "padding": null,
            "right": null,
            "top": null,
            "visibility": null,
            "width": null
          }
        },
        "b77912dbbbb148e2b46907a5ce6c4791": {
          "model_module": "@jupyter-widgets/controls",
          "model_name": "DescriptionStyleModel",
          "model_module_version": "1.5.0",
          "state": {
            "_model_module": "@jupyter-widgets/controls",
            "_model_module_version": "1.5.0",
            "_model_name": "DescriptionStyleModel",
            "_view_count": null,
            "_view_module": "@jupyter-widgets/base",
            "_view_module_version": "1.2.0",
            "_view_name": "StyleView",
            "description_width": ""
          }
        },
        "a4cac2cbac06458593e2935499ebe5f9": {
          "model_module": "@jupyter-widgets/base",
          "model_name": "LayoutModel",
          "model_module_version": "1.2.0",
          "state": {
            "_model_module": "@jupyter-widgets/base",
            "_model_module_version": "1.2.0",
            "_model_name": "LayoutModel",
            "_view_count": null,
            "_view_module": "@jupyter-widgets/base",
            "_view_module_version": "1.2.0",
            "_view_name": "LayoutView",
            "align_content": null,
            "align_items": null,
            "align_self": null,
            "border": null,
            "bottom": null,
            "display": null,
            "flex": null,
            "flex_flow": null,
            "grid_area": null,
            "grid_auto_columns": null,
            "grid_auto_flow": null,
            "grid_auto_rows": null,
            "grid_column": null,
            "grid_gap": null,
            "grid_row": null,
            "grid_template_areas": null,
            "grid_template_columns": null,
            "grid_template_rows": null,
            "height": null,
            "justify_content": null,
            "justify_items": null,
            "left": null,
            "margin": null,
            "max_height": null,
            "max_width": null,
            "min_height": null,
            "min_width": null,
            "object_fit": null,
            "object_position": null,
            "order": null,
            "overflow": null,
            "overflow_x": null,
            "overflow_y": null,
            "padding": null,
            "right": null,
            "top": null,
            "visibility": null,
            "width": null
          }
        },
        "99b8f1747a9d4e64ad43a42e92561c8b": {
          "model_module": "@jupyter-widgets/controls",
          "model_name": "ProgressStyleModel",
          "model_module_version": "1.5.0",
          "state": {
            "_model_module": "@jupyter-widgets/controls",
            "_model_module_version": "1.5.0",
            "_model_name": "ProgressStyleModel",
            "_view_count": null,
            "_view_module": "@jupyter-widgets/base",
            "_view_module_version": "1.2.0",
            "_view_name": "StyleView",
            "bar_color": null,
            "description_width": ""
          }
        },
        "280ea8a567504fb087672ce08f7a911b": {
          "model_module": "@jupyter-widgets/base",
          "model_name": "LayoutModel",
          "model_module_version": "1.2.0",
          "state": {
            "_model_module": "@jupyter-widgets/base",
            "_model_module_version": "1.2.0",
            "_model_name": "LayoutModel",
            "_view_count": null,
            "_view_module": "@jupyter-widgets/base",
            "_view_module_version": "1.2.0",
            "_view_name": "LayoutView",
            "align_content": null,
            "align_items": null,
            "align_self": null,
            "border": null,
            "bottom": null,
            "display": null,
            "flex": null,
            "flex_flow": null,
            "grid_area": null,
            "grid_auto_columns": null,
            "grid_auto_flow": null,
            "grid_auto_rows": null,
            "grid_column": null,
            "grid_gap": null,
            "grid_row": null,
            "grid_template_areas": null,
            "grid_template_columns": null,
            "grid_template_rows": null,
            "height": null,
            "justify_content": null,
            "justify_items": null,
            "left": null,
            "margin": null,
            "max_height": null,
            "max_width": null,
            "min_height": null,
            "min_width": null,
            "object_fit": null,
            "object_position": null,
            "order": null,
            "overflow": null,
            "overflow_x": null,
            "overflow_y": null,
            "padding": null,
            "right": null,
            "top": null,
            "visibility": null,
            "width": null
          }
        },
        "55d1669dd7b249d680c79bae8018649f": {
          "model_module": "@jupyter-widgets/controls",
          "model_name": "DescriptionStyleModel",
          "model_module_version": "1.5.0",
          "state": {
            "_model_module": "@jupyter-widgets/controls",
            "_model_module_version": "1.5.0",
            "_model_name": "DescriptionStyleModel",
            "_view_count": null,
            "_view_module": "@jupyter-widgets/base",
            "_view_module_version": "1.2.0",
            "_view_name": "StyleView",
            "description_width": ""
          }
        }
      }
    }
  },
  "cells": [
    {
      "cell_type": "markdown",
      "metadata": {
        "id": "view-in-github",
        "colab_type": "text"
      },
      "source": [
        "<a href=\"https://colab.research.google.com/github/gnudennis/hugggingface_demo/blob/main/02_bert.ipynb\" target=\"_parent\"><img src=\"https://colab.research.google.com/assets/colab-badge.svg\" alt=\"Open In Colab\"/></a>"
      ]
    },
    {
      "cell_type": "markdown",
      "source": [
        "## bert intro\n",
        "\n",
        "- bert: encoder of transformer\n",
        "  - transformer: encoder-decoder(seq2seq)\n",
        "- bert\n",
        "  - embeddings\n",
        "    - word(token) embedding\n",
        "    - position embedding\n",
        "    - token type embedding\n",
        "  - encoder(12 layer)\n",
        "    - mha (self attention: qkv)\n",
        "    - ffn\n",
        "  - pooler"
      ],
      "metadata": {
        "id": "tTU7cFgbqovV"
      }
    },
    {
      "cell_type": "markdown",
      "source": [
        "transformer架构\n",
        "\n",
        "![image.png](data:image/png;base64,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)"
      ],
      "metadata": {
        "id": "CfvejxPMrAUv"
      }
    },
    {
      "cell_type": "markdown",
      "source": [],
      "metadata": {
        "id": "yBhdVYQpogUX"
      }
    },
    {
      "cell_type": "code",
      "execution_count": null,
      "metadata": {
        "id": "WTZ5qbJMkv77"
      },
      "outputs": [],
      "source": [
        "!pip install datasets evaluate transformers[sentencepiece] accelerate"
      ]
    },
    {
      "cell_type": "code",
      "source": [
        "from transformers import AutoModel, AutoModelForSequenceClassification"
      ],
      "metadata": {
        "id": "-Uv0n_5gk2x2"
      },
      "execution_count": 2,
      "outputs": []
    },
    {
      "cell_type": "code",
      "source": [
        "model_name = 'bert-base-uncased'"
      ],
      "metadata": {
        "id": "bWEjl4zjmGVD"
      },
      "execution_count": 3,
      "outputs": []
    },
    {
      "cell_type": "code",
      "source": [
        "model = AutoModel.from_pretrained(model_name)\n",
        "cls_model = AutoModelForSequenceClassification.from_pretrained(model_name)"
      ],
      "metadata": {
        "colab": {
          "base_uri": "https://localhost:8080/",
          "height": 244,
          "referenced_widgets": [
            "3512af0c1bd04f278f21cccd72107ce3",
            "073ea0189f154ba69db571df766f48ea",
            "ed70a04de4a64fb8bfbb0927cf9eab00",
            "cffefc9d6cf14afdae29538ce9c4306a",
            "f9d4ef6750354c4087740c20e4ecca7c",
            "f72847b38e734b9ba47dc341e8808fbd",
            "721145f8695d4b75abfa9336a213d219",
            "d936fd0556064d578216e1bed9b38906",
            "71ae8202c06343fd8b8dc0c7d1b5a36e",
            "c7fa86a5aec145da9873350820869186",
            "7bc9f5689e544948a8de0bf3c7483320",
            "05531a694477417fa52622d96d87a184",
            "337aeed7b6154f0393227b6b438986b4",
            "a574756d318b46aaa83ff5ca9f6d571f",
            "9312e2e065e54f40a36dda0360641c2f",
            "94ad4753edf64d2ca535f6a837406f20",
            "46caddb9a52e466882e539999a64d63e",
            "be065af39ea14d629147e04c67bfed73",
            "a6304033eecf4fb28671f8bbc52a1278",
            "5e5215a577944f4d85336a5086e2123e",
            "4190e1ef8c6d4a6589eaa8818b96fd24",
            "1efc391cf9b64405a8edc7dcf0652f73"
          ]
        },
        "id": "3_uYAq9GmJiu",
        "outputId": "eca84fa1-95ae-4396-a916-ad14c7724ce4"
      },
      "execution_count": 4,
      "outputs": [
        {
          "output_type": "display_data",
          "data": {
            "text/plain": [
              "Downloading (…)lve/main/config.json:   0%|          | 0.00/570 [00:00<?, ?B/s]"
            ],
            "application/vnd.jupyter.widget-view+json": {
              "version_major": 2,
              "version_minor": 0,
              "model_id": "3512af0c1bd04f278f21cccd72107ce3"
            }
          },
          "metadata": {}
        },
        {
          "output_type": "display_data",
          "data": {
            "text/plain": [
              "Downloading model.safetensors:   0%|          | 0.00/440M [00:00<?, ?B/s]"
            ],
            "application/vnd.jupyter.widget-view+json": {
              "version_major": 2,
              "version_minor": 0,
              "model_id": "05531a694477417fa52622d96d87a184"
            }
          },
          "metadata": {}
        },
        {
          "output_type": "stream",
          "name": "stderr",
          "text": [
            "Some weights of the model checkpoint at bert-base-uncased were not used when initializing BertModel: ['cls.predictions.bias', 'cls.predictions.transform.dense.bias', 'cls.seq_relationship.weight', 'cls.predictions.transform.LayerNorm.bias', 'cls.seq_relationship.bias', 'cls.predictions.transform.LayerNorm.weight', 'cls.predictions.transform.dense.weight']\n",
            "- This IS expected if you are initializing BertModel from the checkpoint of a model trained on another task or with another architecture (e.g. initializing a BertForSequenceClassification model from a BertForPreTraining model).\n",
            "- This IS NOT expected if you are initializing BertModel from the checkpoint of a model that you expect to be exactly identical (initializing a BertForSequenceClassification model from a BertForSequenceClassification model).\n",
            "Some weights of the model checkpoint at bert-base-uncased were not used when initializing BertForSequenceClassification: ['cls.predictions.bias', 'cls.predictions.transform.dense.bias', 'cls.seq_relationship.weight', 'cls.predictions.transform.LayerNorm.bias', 'cls.seq_relationship.bias', 'cls.predictions.transform.LayerNorm.weight', 'cls.predictions.transform.dense.weight']\n",
            "- This IS expected if you are initializing BertForSequenceClassification from the checkpoint of a model trained on another task or with another architecture (e.g. initializing a BertForSequenceClassification model from a BertForPreTraining model).\n",
            "- This IS NOT expected if you are initializing BertForSequenceClassification from the checkpoint of a model that you expect to be exactly identical (initializing a BertForSequenceClassification model from a BertForSequenceClassification model).\n",
            "Some weights of BertForSequenceClassification were not initialized from the model checkpoint at bert-base-uncased and are newly initialized: ['classifier.weight', 'classifier.bias']\n",
            "You should probably TRAIN this model on a down-stream task to be able to use it for predictions and inference.\n"
          ]
        }
      ]
    },
    {
      "cell_type": "code",
      "source": [
        "model"
      ],
      "metadata": {
        "colab": {
          "base_uri": "https://localhost:8080/"
        },
        "id": "vvMyRIXTmnD8",
        "outputId": "25229e98-9edd-4cdf-a532-ebab084fd565"
      },
      "execution_count": 6,
      "outputs": [
        {
          "output_type": "execute_result",
          "data": {
            "text/plain": [
              "BertModel(\n",
              "  (embeddings): BertEmbeddings(\n",
              "    (word_embeddings): Embedding(30522, 768, padding_idx=0)\n",
              "    (position_embeddings): Embedding(512, 768)\n",
              "    (token_type_embeddings): Embedding(2, 768)\n",
              "    (LayerNorm): LayerNorm((768,), eps=1e-12, elementwise_affine=True)\n",
              "    (dropout): Dropout(p=0.1, inplace=False)\n",
              "  )\n",
              "  (encoder): BertEncoder(\n",
              "    (layer): ModuleList(\n",
              "      (0-11): 12 x BertLayer(\n",
              "        (attention): BertAttention(\n",
              "          (self): BertSelfAttention(\n",
              "            (query): Linear(in_features=768, out_features=768, bias=True)\n",
              "            (key): Linear(in_features=768, out_features=768, bias=True)\n",
              "            (value): Linear(in_features=768, out_features=768, bias=True)\n",
              "            (dropout): Dropout(p=0.1, inplace=False)\n",
              "          )\n",
              "          (output): BertSelfOutput(\n",
              "            (dense): Linear(in_features=768, out_features=768, bias=True)\n",
              "            (LayerNorm): LayerNorm((768,), eps=1e-12, elementwise_affine=True)\n",
              "            (dropout): Dropout(p=0.1, inplace=False)\n",
              "          )\n",
              "        )\n",
              "        (intermediate): BertIntermediate(\n",
              "          (dense): Linear(in_features=768, out_features=3072, bias=True)\n",
              "          (intermediate_act_fn): GELUActivation()\n",
              "        )\n",
              "        (output): BertOutput(\n",
              "          (dense): Linear(in_features=3072, out_features=768, bias=True)\n",
              "          (LayerNorm): LayerNorm((768,), eps=1e-12, elementwise_affine=True)\n",
              "          (dropout): Dropout(p=0.1, inplace=False)\n",
              "        )\n",
              "      )\n",
              "    )\n",
              "  )\n",
              "  (pooler): BertPooler(\n",
              "    (dense): Linear(in_features=768, out_features=768, bias=True)\n",
              "    (activation): Tanh()\n",
              "  )\n",
              ")"
            ]
          },
          "metadata": {},
          "execution_count": 6
        }
      ]
    },
    {
      "cell_type": "code",
      "source": [
        "cls_model"
      ],
      "metadata": {
        "colab": {
          "base_uri": "https://localhost:8080/"
        },
        "id": "TF8ojHRHmYa0",
        "outputId": "9abbd9ef-143a-4e15-b82c-2522479471d1"
      },
      "execution_count": 5,
      "outputs": [
        {
          "output_type": "execute_result",
          "data": {
            "text/plain": [
              "BertForSequenceClassification(\n",
              "  (bert): BertModel(\n",
              "    (embeddings): BertEmbeddings(\n",
              "      (word_embeddings): Embedding(30522, 768, padding_idx=0)\n",
              "      (position_embeddings): Embedding(512, 768)\n",
              "      (token_type_embeddings): Embedding(2, 768)\n",
              "      (LayerNorm): LayerNorm((768,), eps=1e-12, elementwise_affine=True)\n",
              "      (dropout): Dropout(p=0.1, inplace=False)\n",
              "    )\n",
              "    (encoder): BertEncoder(\n",
              "      (layer): ModuleList(\n",
              "        (0-11): 12 x BertLayer(\n",
              "          (attention): BertAttention(\n",
              "            (self): BertSelfAttention(\n",
              "              (query): Linear(in_features=768, out_features=768, bias=True)\n",
              "              (key): Linear(in_features=768, out_features=768, bias=True)\n",
              "              (value): Linear(in_features=768, out_features=768, bias=True)\n",
              "              (dropout): Dropout(p=0.1, inplace=False)\n",
              "            )\n",
              "            (output): BertSelfOutput(\n",
              "              (dense): Linear(in_features=768, out_features=768, bias=True)\n",
              "              (LayerNorm): LayerNorm((768,), eps=1e-12, elementwise_affine=True)\n",
              "              (dropout): Dropout(p=0.1, inplace=False)\n",
              "            )\n",
              "          )\n",
              "          (intermediate): BertIntermediate(\n",
              "            (dense): Linear(in_features=768, out_features=3072, bias=True)\n",
              "            (intermediate_act_fn): GELUActivation()\n",
              "          )\n",
              "          (output): BertOutput(\n",
              "            (dense): Linear(in_features=3072, out_features=768, bias=True)\n",
              "            (LayerNorm): LayerNorm((768,), eps=1e-12, elementwise_affine=True)\n",
              "            (dropout): Dropout(p=0.1, inplace=False)\n",
              "          )\n",
              "        )\n",
              "      )\n",
              "    )\n",
              "    (pooler): BertPooler(\n",
              "      (dense): Linear(in_features=768, out_features=768, bias=True)\n",
              "      (activation): Tanh()\n",
              "    )\n",
              "  )\n",
              "  (dropout): Dropout(p=0.1, inplace=False)\n",
              "  (classifier): Linear(in_features=768, out_features=2, bias=True)\n",
              ")"
            ]
          },
          "metadata": {},
          "execution_count": 5
        }
      ]
    },
    {
      "cell_type": "code",
      "source": [
        "model.encoder.layer[0].attention.self.query"
      ],
      "metadata": {
        "colab": {
          "base_uri": "https://localhost:8080/"
        },
        "id": "_409qwbVmj1r",
        "outputId": "522df20a-921f-4586-e7f2-d04a2ff3ea5b"
      },
      "execution_count": 11,
      "outputs": [
        {
          "output_type": "execute_result",
          "data": {
            "text/plain": [
              "Linear(in_features=768, out_features=768, bias=True)"
            ]
          },
          "metadata": {},
          "execution_count": 11
        }
      ]
    },
    {
      "cell_type": "code",
      "source": [
        "cls_model.classifier"
      ],
      "metadata": {
        "colab": {
          "base_uri": "https://localhost:8080/"
        },
        "id": "J4x2SfzZnFRr",
        "outputId": "7d2d5f07-57e2-4798-e26d-1c0520557542"
      },
      "execution_count": 12,
      "outputs": [
        {
          "output_type": "execute_result",
          "data": {
            "text/plain": [
              "Linear(in_features=768, out_features=2, bias=True)"
            ]
          },
          "metadata": {},
          "execution_count": 12
        }
      ]
    },
    {
      "cell_type": "code",
      "source": [
        "# 参数量统计\n",
        "\n",
        "total_params = 0\n",
        "total_learnable_params = 0\n",
        "total_embedding_params = 0\n",
        "total_encoder_params = 0\n",
        "total_pooler_params = 0\n",
        "\n",
        "for name, param in model.named_parameters():\n",
        "  if 'embedding' in name:\n",
        "    total_embedding_params += param.numel()\n",
        "  if 'encoder' in name:\n",
        "    total_encoder_params += param.numel()\n",
        "  if 'pooler' in name:\n",
        "    total_pooler_params += param.numel()\n",
        "\n",
        "  if param.requires_grad:\n",
        "    total_learnable_params += param.numel()\n",
        "  total_params += param.numel()"
      ],
      "metadata": {
        "id": "B1Y_6mBUnFT_"
      },
      "execution_count": 22,
      "outputs": []
    },
    {
      "cell_type": "code",
      "source": [
        "total_params, total_learnable_params"
      ],
      "metadata": {
        "colab": {
          "base_uri": "https://localhost:8080/"
        },
        "id": "PfY2ki8vryiJ",
        "outputId": "beb0be83-9186-4bad-e569-3fcb9395ce84"
      },
      "execution_count": 18,
      "outputs": [
        {
          "output_type": "execute_result",
          "data": {
            "text/plain": [
              "(109482240, 109482240)"
            ]
          },
          "metadata": {},
          "execution_count": 18
        }
      ]
    },
    {
      "cell_type": "code",
      "source": [],
      "metadata": {
        "id": "f64ZfrPxscl_"
      },
      "execution_count": null,
      "outputs": []
    },
    {
      "cell_type": "code",
      "source": [
        "params = (total_embedding_params, total_encoder_params, total_pooler_params)\n",
        "for param in params:\n",
        "  print(f'{param/sum(params)*100:.2f}%')\n"
      ],
      "metadata": {
        "colab": {
          "base_uri": "https://localhost:8080/"
        },
        "id": "fC0nh3XRrykU",
        "outputId": "41a57126-1b16-4059-b420-6018dda5510c"
      },
      "execution_count": 28,
      "outputs": [
        {
          "output_type": "stream",
          "name": "stdout",
          "text": [
            "21.77%\n",
            "77.69%\n",
            "0.54%\n"
          ]
        }
      ]
    },
    {
      "cell_type": "markdown",
      "source": [
        "## bert embeeding"
      ],
      "metadata": {
        "id": "0is2JQR_oQxO"
      }
    },
    {
      "cell_type": "markdown",
      "source": [
        "![image.png](data:image/png;base64,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)"
      ],
      "metadata": {
        "id": "zMUBM9VMn3d8"
      }
    },
    {
      "cell_type": "markdown",
      "source": [
        "- bert input embedding: 一种查表操作（lookup table）\n",
        "  - 查表\n",
        "    - token embeddings: 30522*768\n",
        "    - segment embeddings: 0/1 *768\n",
        "    - position embeddings: 512*768\n",
        "  - 后处理\n",
        "    - layer norm\n",
        "    - dropout"
      ],
      "metadata": {
        "id": "i4b02K8NvcAn"
      }
    },
    {
      "cell_type": "code",
      "source": [
        "from transformers import AutoTokenizer, AutoModel\n",
        "import torch\n",
        "from torch import nn"
      ],
      "metadata": {
        "id": "wY13AaYInFWP"
      },
      "execution_count": 34,
      "outputs": []
    },
    {
      "cell_type": "code",
      "source": [
        "model_name = 'bert-base-uncased'\n",
        "tokenizer = AutoTokenizer.from_pretrained(model_name)\n",
        "model = AutoModel.from_pretrained(model_name)"
      ],
      "metadata": {
        "colab": {
          "base_uri": "https://localhost:8080/",
          "height": 187,
          "referenced_widgets": [
            "1fa3de319a0c4888b904689ce05bd51b",
            "b29dd6d0dbca4ab3be22bd8be4ca4220",
            "959bdcfce1624095996aa95cd3008379",
            "745678c5c9f843dd9ab0c70601a63732",
            "66e862a5ddbd422ea4900245fb73b523",
            "ad5935f633cf4e7eb5552baa1f44eaea",
            "f426585176a746099b1d11388a769d27",
            "f4ed468ea84242138433cd5c821fc631",
            "bca3998db5e8442dbff5ee7b6b59e340",
            "314fc0c855a949cf9632f73a14ee7d2b",
            "6fa2752cf7504c89b6b815c33d24969a",
            "af59435a332e4124addd87fc302e5047",
            "fd9bf55eca14411683ad241b3972f93a",
            "714fa16b4e1449998ac1cd07b7501aa5",
            "0fd3e704d7f047a68acbdd42fbcfa4b4",
            "f50c08804cda4cc689e7272e6d5136dd",
            "e01c6baaad3a4c4b9ae3a340d0e6fa6b",
            "f5ed28952aea4cc3b5ed6cbd0a5084a4",
            "775150dd93684817a0cfc7bc6b47ef92",
            "bf6f1183f70247d68edc36fcff9663f4",
            "a57bf690a71a46c3900e5dbd7b1bd2c3",
            "b5ee56f543e3426cbe9bdb681d4ac400",
            "7c1d2ae285c345a19c892a086b498bc2",
            "dd39ae9ce2a54eeb9018d8880a5809df",
            "64c36c9957744b358a8c9b481261e627",
            "e350ea0034c24f9dae36e8992d940370",
            "46c1c14def364d2d960c709d260a0e9c",
            "bd36d12ce49947b488bdaa9cd6e9519e",
            "b77912dbbbb148e2b46907a5ce6c4791",
            "a4cac2cbac06458593e2935499ebe5f9",
            "99b8f1747a9d4e64ad43a42e92561c8b",
            "280ea8a567504fb087672ce08f7a911b",
            "55d1669dd7b249d680c79bae8018649f"
          ]
        },
        "id": "NNEdJNBxnFYv",
        "outputId": "f3a09327-915d-4da9-9b8d-a8520908184f"
      },
      "execution_count": 35,
      "outputs": [
        {
          "output_type": "display_data",
          "data": {
            "text/plain": [
              "Downloading (…)okenizer_config.json:   0%|          | 0.00/28.0 [00:00<?, ?B/s]"
            ],
            "application/vnd.jupyter.widget-view+json": {
              "version_major": 2,
              "version_minor": 0,
              "model_id": "1fa3de319a0c4888b904689ce05bd51b"
            }
          },
          "metadata": {}
        },
        {
          "output_type": "display_data",
          "data": {
            "text/plain": [
              "Downloading (…)solve/main/vocab.txt:   0%|          | 0.00/232k [00:00<?, ?B/s]"
            ],
            "application/vnd.jupyter.widget-view+json": {
              "version_major": 2,
              "version_minor": 0,
              "model_id": "af59435a332e4124addd87fc302e5047"
            }
          },
          "metadata": {}
        },
        {
          "output_type": "display_data",
          "data": {
            "text/plain": [
              "Downloading (…)/main/tokenizer.json:   0%|          | 0.00/466k [00:00<?, ?B/s]"
            ],
            "application/vnd.jupyter.widget-view+json": {
              "version_major": 2,
              "version_minor": 0,
              "model_id": "7c1d2ae285c345a19c892a086b498bc2"
            }
          },
          "metadata": {}
        },
        {
          "output_type": "stream",
          "name": "stderr",
          "text": [
            "Some weights of the model checkpoint at bert-base-uncased were not used when initializing BertModel: ['cls.predictions.bias', 'cls.predictions.transform.dense.bias', 'cls.seq_relationship.weight', 'cls.predictions.transform.LayerNorm.bias', 'cls.seq_relationship.bias', 'cls.predictions.transform.LayerNorm.weight', 'cls.predictions.transform.dense.weight']\n",
            "- This IS expected if you are initializing BertModel from the checkpoint of a model trained on another task or with another architecture (e.g. initializing a BertForSequenceClassification model from a BertForPreTraining model).\n",
            "- This IS NOT expected if you are initializing BertModel from the checkpoint of a model that you expect to be exactly identical (initializing a BertForSequenceClassification model from a BertForSequenceClassification model).\n"
          ]
        }
      ]
    },
    {
      "cell_type": "code",
      "source": [
        "sentence = '欢迎来到AGI时代'"
      ],
      "metadata": {
        "id": "e1Gy8PcSnFbJ"
      },
      "execution_count": 37,
      "outputs": []
    },
    {
      "cell_type": "code",
      "source": [
        "input = tokenizer(sentence, return_tensors='pt')\n",
        "input"
      ],
      "metadata": {
        "colab": {
          "base_uri": "https://localhost:8080/"
        },
        "id": "EyTpF8o4nFdb",
        "outputId": "76feae26-6622-421d-a367-035a27f49312"
      },
      "execution_count": 40,
      "outputs": [
        {
          "output_type": "execute_result",
          "data": {
            "text/plain": [
              "{'input_ids': tensor([[  101,   100,   100,   100,   100, 12943,  2072,   100,  1760,   102]]), 'token_type_ids': tensor([[0, 0, 0, 0, 0, 0, 0, 0, 0, 0]]), 'attention_mask': tensor([[1, 1, 1, 1, 1, 1, 1, 1, 1, 1]])}"
            ]
          },
          "metadata": {},
          "execution_count": 40
        }
      ]
    },
    {
      "cell_type": "code",
      "source": [
        "input_ids = input['input_ids']\n",
        "token_type_ids = input['token_type_ids']"
      ],
      "metadata": {
        "id": "qzH_dBWUnFfm"
      },
      "execution_count": 41,
      "outputs": []
    },
    {
      "cell_type": "code",
      "source": [
        "pos_ids = torch.arange(input_ids.shape[1])\n",
        "pos_ids"
      ],
      "metadata": {
        "colab": {
          "base_uri": "https://localhost:8080/"
        },
        "id": "yXmd6IjIxUkG",
        "outputId": "8432a817-b53c-407c-a640-4efeff817bfe"
      },
      "execution_count": 42,
      "outputs": [
        {
          "output_type": "execute_result",
          "data": {
            "text/plain": [
              "tensor([0, 1, 2, 3, 4, 5, 6, 7, 8, 9])"
            ]
          },
          "metadata": {},
          "execution_count": 42
        }
      ]
    },
    {
      "cell_type": "code",
      "source": [
        "# token embedding\n",
        "token_embed = model.embeddings.word_embeddings(input_ids)"
      ],
      "metadata": {
        "id": "lPhGeMgOxe4M"
      },
      "execution_count": 44,
      "outputs": []
    },
    {
      "cell_type": "code",
      "source": [
        "# segment type embedding\n",
        "seg_embed = model.embeddings.token_type_embeddings(token_type_ids)"
      ],
      "metadata": {
        "id": "t01NA_5sx3UE"
      },
      "execution_count": 46,
      "outputs": []
    },
    {
      "cell_type": "code",
      "source": [
        "# pos embedding\n",
        "pos_embed = model.embeddings.position_embeddings(pos_ids)"
      ],
      "metadata": {
        "id": "8WmHNx3Zx8D9"
      },
      "execution_count": 47,
      "outputs": []
    },
    {
      "cell_type": "code",
      "source": [
        "# input embedding\n",
        "input_embed = token_embed + seg_embed + pos_embed\n",
        "input_embed\n"
      ],
      "metadata": {
        "colab": {
          "base_uri": "https://localhost:8080/"
        },
        "id": "19SJRotByI8c",
        "outputId": "30709f9f-53fa-45c3-fc93-258dfde19ec4"
      },
      "execution_count": 49,
      "outputs": [
        {
          "output_type": "execute_result",
          "data": {
            "text/plain": [
              "tensor([[[ 3.1567e-02, -4.1133e-02, -5.6440e-02,  ...,  2.1021e-03,\n",
              "           4.4473e-03,  2.1946e-02],\n",
              "         [-3.4291e-02, -3.5117e-02,  1.4074e-02,  ...,  2.5212e-02,\n",
              "          -3.1713e-03, -5.0979e-02],\n",
              "         [-5.3336e-02, -3.9342e-02,  2.1946e-02,  ...,  1.1210e-02,\n",
              "          -1.4183e-02, -5.2968e-02],\n",
              "         ...,\n",
              "         [-4.1423e-02, -5.3467e-02,  2.5882e-02,  ...,  1.6414e-03,\n",
              "          -1.7015e-02, -4.3843e-02],\n",
              "         [ 1.2549e-03, -6.8392e-02, -1.4433e-02,  ..., -1.5656e-02,\n",
              "          -6.8940e-02, -2.2030e-02],\n",
              "         [-7.6494e-03, -2.3333e-03, -6.7711e-03,  ..., -6.5324e-03,\n",
              "           7.0597e-05, -5.6649e-03]]], grad_fn=<AddBackward0>)"
            ]
          },
          "metadata": {},
          "execution_count": 49
        }
      ]
    },
    {
      "cell_type": "code",
      "source": [
        "# 后处理\n",
        "\n",
        "embed = model.embeddings.LayerNorm(input_embed)\n",
        "embed = model.embeddings.dropout(embed)\n",
        "embed"
      ],
      "metadata": {
        "colab": {
          "base_uri": "https://localhost:8080/"
        },
        "id": "MduQDvvDyTya",
        "outputId": "81fc5d59-eb55-4370-a46c-c6c827123175"
      },
      "execution_count": 51,
      "outputs": [
        {
          "output_type": "execute_result",
          "data": {
            "text/plain": [
              "tensor([[[ 0.1686, -0.2858, -0.3261,  ..., -0.0276,  0.0383,  0.1640],\n",
              "         [-0.3117, -0.3060,  0.5137,  ...,  0.5798,  0.2450, -0.5428],\n",
              "         [-0.6267, -0.3682,  0.6441,  ...,  0.3857,  0.0773, -0.5711],\n",
              "         ...,\n",
              "         [-0.4240, -0.5947,  0.7099,  ...,  0.2513,  0.0351, -0.4137],\n",
              "         [ 0.4410, -0.7962,  0.1899,  ...,  0.1032, -0.7518,  0.0702],\n",
              "         [-0.1474, -0.0411, -0.0732,  ..., -0.1157,  0.0421, -0.0550]]],\n",
              "       grad_fn=<NativeLayerNormBackward0>)"
            ]
          },
          "metadata": {},
          "execution_count": 51
        }
      ]
    },
    {
      "cell_type": "code",
      "source": [
        "embed.shape"
      ],
      "metadata": {
        "colab": {
          "base_uri": "https://localhost:8080/"
        },
        "id": "t500MAMKyllo",
        "outputId": "2cf08457-15ba-4307-acdf-8df68daa9344"
      },
      "execution_count": 52,
      "outputs": [
        {
          "output_type": "execute_result",
          "data": {
            "text/plain": [
              "torch.Size([1, 10, 768])"
            ]
          },
          "metadata": {},
          "execution_count": 52
        }
      ]
    },
    {
      "cell_type": "code",
      "source": [],
      "metadata": {
        "id": "sPGwITs2y5mM"
      },
      "execution_count": null,
      "outputs": []
    },
    {
      "cell_type": "markdown",
      "source": [
        "## bert output"
      ],
      "metadata": {
        "id": "LFLRdBLdzv-j"
      }
    },
    {
      "cell_type": "code",
      "source": [],
      "metadata": {
        "id": "_ldAyOkszxCs"
      },
      "execution_count": null,
      "outputs": []
    }
  ]
}